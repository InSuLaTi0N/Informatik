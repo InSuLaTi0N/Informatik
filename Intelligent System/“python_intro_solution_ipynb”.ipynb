{
  "nbformat": 4,
  "nbformat_minor": 0,
  "metadata": {
    "colab": {
      "name": "“python_intro_solution.ipynb”的副本",
      "private_outputs": true,
      "provenance": [],
      "collapsed_sections": [],
      "include_colab_link": true
    },
    "kernelspec": {
      "name": "python3",
      "display_name": "Python 3"
    }
  },
  "cells": [
    {
      "cell_type": "markdown",
      "metadata": {
        "id": "view-in-github",
        "colab_type": "text"
      },
      "source": [
        "<a href=\"https://colab.research.google.com/github/InSuLaTi0N/Informatik/blob/master/%E2%80%9Cpython_intro_solution_ipynb%E2%80%9D.ipynb\" target=\"_parent\"><img src=\"https://colab.research.google.com/assets/colab-badge.svg\" alt=\"Open In Colab\"/></a>"
      ]
    },
    {
      "cell_type": "markdown",
      "metadata": {
        "id": "y-vV2SYRAD4H"
      },
      "source": [
        "Version: 2019.10.1\n",
        "\n",
        "---\n",
        "\n",
        "# Python Basics\n",
        "\n",
        "Nutzen Sie die untenstehende Code-Zellen und machen Sie sich mit der Python 3 Syntax vertraut. **Führen Sie die Code-Zellen mit einem Klick auf den Play-Button aus**. Die Ausgabe erscheint daraufhin in einem Ouput-Bereich. Syntax-Vervollständigng ist mit **Ctrl+Space** verfügbar.\n",
        "\n",
        "Nach der Ausführung einer Code-Zelle sehen Sie die fortlaufende Nummer der Ausführung in eckigen Klammern."
      ]
    },
    {
      "cell_type": "code",
      "metadata": {
        "id": "TqeSK0syABCn"
      },
      "source": [
        "print(\"Hello World!\")    "
      ],
      "execution_count": null,
      "outputs": []
    },
    {
      "cell_type": "markdown",
      "metadata": {
        "id": "5Ey0L7mEW4Vw"
      },
      "source": [
        "## Variablen\n",
        "\n",
        "Python ist eine untypisierte Programmiersprache: Variablen erhalten keine explizite Typdeklaration."
      ]
    },
    {
      "cell_type": "code",
      "metadata": {
        "id": "91iPwppnAKBA"
      },
      "source": [
        "sequence = \"gaaggcgaggagtttagaggc\" # String\n",
        "i = 0 # Integer\n",
        "percent = 0.5 # Float\n",
        "different = False # Boolean"
      ],
      "execution_count": null,
      "outputs": []
    },
    {
      "cell_type": "markdown",
      "metadata": {
        "id": "7vaIQ0ftXktM"
      },
      "source": [
        "Addieren Sie verschiedene der zuvor definierten Variablen mit dem \"+\"-Operator. Achten Sie dabei auf  den Variablentyp.\n"
      ]
    },
    {
      "cell_type": "code",
      "metadata": {
        "id": "7ODuNe21YDyI"
      },
      "source": [
        "# Variablen unterschiedlichen Typs addieren\n",
        "sequence + i"
      ],
      "execution_count": null,
      "outputs": []
    },
    {
      "cell_type": "code",
      "metadata": {
        "id": "Fy11PeLOYR18"
      },
      "source": [
        "# Variablen des gleichen Typs addieren\n",
        "percent + percent"
      ],
      "execution_count": null,
      "outputs": []
    },
    {
      "cell_type": "code",
      "metadata": {
        "id": "PR-E8yBTbVwr"
      },
      "source": [
        "# probieren Sie hier weitere Kombinationen aus\n"
      ],
      "execution_count": null,
      "outputs": []
    },
    {
      "cell_type": "markdown",
      "metadata": {
        "id": "Y89e4LPMbq8_"
      },
      "source": [
        "## Datenstrukturen\n",
        "Python bietet verschiedene Datenstrukturen, die Sie verwenden können um Objekte darin zu speichern.\n",
        "\n",
        "Verwenden Sie die folgenden Code-Zellen, um sich mit den verschiedenen Datentypen vertraut zu machen."
      ]
    },
    {
      "cell_type": "markdown",
      "metadata": {
        "id": "HLpQRZNMdUxy"
      },
      "source": [
        "### Listen"
      ]
    },
    {
      "cell_type": "code",
      "metadata": {
        "id": "GuFV7Pz4cxRa"
      },
      "source": [
        "l = []\n",
        "l = [1,1,3]\n",
        "print(l)\n",
        "l.append([4,5]) # nested lists\n",
        "print(l)\n",
        "print(l[3])"
      ],
      "execution_count": null,
      "outputs": []
    },
    {
      "cell_type": "markdown",
      "metadata": {
        "id": "kVrQsQACdWm-"
      },
      "source": [
        "### Sets"
      ]
    },
    {
      "cell_type": "code",
      "metadata": {
        "id": "UhBWYlZTda-F"
      },
      "source": [
        "s = set([]) # erzeugt ein Set aus einer Liste\n",
        "s = {1,2,3}\n",
        "print(s)"
      ],
      "execution_count": null,
      "outputs": []
    },
    {
      "cell_type": "markdown",
      "metadata": {
        "id": "1uRYhi32eBby"
      },
      "source": [
        "### Dictionaries"
      ]
    },
    {
      "cell_type": "code",
      "metadata": {
        "id": "_yZYNP9meFZQ"
      },
      "source": [
        "d = {}\n",
        "d = {\"Ana\":1, \"Bob\":2}"
      ],
      "execution_count": null,
      "outputs": []
    },
    {
      "cell_type": "markdown",
      "metadata": {
        "id": "SoYlrzb8e0-V"
      },
      "source": [
        "## Stringverarbeitung\n",
        "\n",
        "Strings, die in Variablen abgelegt wurden, können durch verschiedene Funktionen verarbeitet werden. Testen Sie einige der folgenden Beispiele."
      ]
    },
    {
      "cell_type": "markdown",
      "metadata": {
        "id": "K5Y9RnwQfwTg"
      },
      "source": [
        "### Zugriff auf einzelne Zeichen "
      ]
    },
    {
      "cell_type": "code",
      "metadata": {
        "id": "6ieYfHyTfSPd"
      },
      "source": [
        "print(sequence[0]) # erstes Zeichen\n",
        "print(sequence[1]) # zweites Zeichen\n",
        "print(sequence[-1]) # letztes Zeichen"
      ],
      "execution_count": null,
      "outputs": []
    },
    {
      "cell_type": "markdown",
      "metadata": {
        "id": "w9DdMm9TfziT"
      },
      "source": [
        "### Zugriff auf Ausschnitte (Substrings)"
      ]
    },
    {
      "cell_type": "code",
      "metadata": {
        "id": "_m_9fa1pf4ua"
      },
      "source": [
        "print(sequence[3:]) # substring nach drittem Zeichen\n",
        "print(sequence[:-2]) # substring bis zum vorletzten Zeichen (ausschließlich)\n",
        "print(sequence[3:-3]) # substring ohne die drei ersten und letzten Zeichen\n"
      ],
      "execution_count": null,
      "outputs": []
    },
    {
      "cell_type": "markdown",
      "metadata": {
        "id": "dUb5YngkjbmJ"
      },
      "source": [
        "### String-Verknüpfung (Konkatenation) & weitere Funktionen"
      ]
    },
    {
      "cell_type": "code",
      "metadata": {
        "id": "qtBKTjxLjmsS"
      },
      "source": [
        "print(sequence + \"taa\") # taa zu String sequence am Ende anfügen\n",
        "print(\"taa\" + sequence) # taa zu String sequence am Beginn anfügen\n",
        "print(len(sequence)) # gibt die Länge des Strings sequence aus"
      ],
      "execution_count": null,
      "outputs": []
    },
    {
      "cell_type": "markdown",
      "metadata": {
        "id": "zG3j9w3So1dt"
      },
      "source": [
        "### Lambda\n",
        "Python unterstützt das [Lambdakalkül](https://de.wikipedia.org/wiki/Lambda-Kalk%C3%BCl). Ein Lambda-Operator (keyword: `lambda`) oder eine Lambda-Funktion soll dafür eingesetzt werden kleine, einmal genutzte, anonyme Funktionen zu erstellen. Ein Lambda-Operator kann eine beliebige Anzhal von Argumenten haben, aber nur aus einem Ausdruck (\"Code-Zeile\") bestehen. Er darf keine Statements (\"Zusweisungen\") enthalten und evaluiert zu einem Funktions-Object, das auch in einer Variable gespeichert werden kann. Sehen Sie sich das unten stehende Beispiel an, wie man eine kleine Funktion als Lambda-Operator ausdrücken kann."
      ]
    },
    {
      "cell_type": "code",
      "metadata": {
        "id": "dIiRlQ7o0vIv"
      },
      "source": [
        "def add(x, y): # zwei Argumente werden addiert und die Summe zurück gegeben\n",
        "    return x + y\n",
        "\n",
        "print(add(2, 3)) # Funktionsaufruf\n",
        "\n",
        "# Jetzt wird die obige Funktion als Funktions-Objekt in Form eines Lambda-Operators gespeichert.\n",
        "add = lambda x, y : x + y \n",
        "print(add(2, 3)) # Funktionsaufruf mit Lambda"
      ],
      "execution_count": null,
      "outputs": []
    },
    {
      "cell_type": "markdown",
      "metadata": {
        "id": "Ru6vrhuj0w6H"
      },
      "source": [
        "### Map\n",
        "Das `map` Keyword erwartet ein Funktions-Objekt als Argument und ein Iterable (Liste, Dictionary, etc.). Ein Aufruf wendet the Funktion, die im Funktions-Objekt gespeichert ist, auf jedes Element des Iterables an, und gibt eine Liste der veränderten (\"gemappten\") Elemente zurück. Sehen Sie dazu sich das folgende Beispiel an:"
      ]
    },
    {
      "cell_type": "code",
      "metadata": {
        "id": "fuMkl7NI0zSG"
      },
      "source": [
        "def square(x):\n",
        "  return x ** 2\n",
        "sq=map(square, [1, 2, 3, 4])  # Ausgabe: [1, 4, 9, 16]\n",
        "print(list(sq)) # wandelt das Map-Objekt in eine Liste um und gibt diese aus\n",
        "\n",
        "# Der obige Code als Einzeiler mit Map und Lambda\n",
        "sq=map(lambda x : x**2, [1, 2, 3, 4])\n",
        "print(list(sq))"
      ],
      "execution_count": null,
      "outputs": []
    },
    {
      "cell_type": "markdown",
      "metadata": {
        "id": "_oqJqiA601sB"
      },
      "source": [
        "### Filter\n",
        "Das `filter` Keyword funktioniert ganz ähnlich wie `map`. Die Einschränkung ist, dass das übergebene Funtions-Objekt zu einem Wahrheitswert (`True` oder `False`) evaluieren muss. Basierend auf dieser Funktion, werden nur die Elemente des zu verarbeitenden Iterables zurückgegeben, die zu `True` evaluiert werden. \n"
      ]
    },
    {
      "cell_type": "code",
      "metadata": {
        "id": "Tj_MWjyJ06Ox"
      },
      "source": [
        "list_a = [1, 2, 3, 4, 5]\n",
        "\n",
        "filter_obj = filter(lambda x: x % 2 == 0, list_a) # erzeugt das Filter-Objekt\n",
        "even_num = list(filter_obj) # wandelt das Filter-Objekt in eine Liste um und gibt diese aus\n",
        "print(even_num) # Output: [2, 4]"
      ],
      "execution_count": null,
      "outputs": []
    },
    {
      "cell_type": "markdown",
      "metadata": {
        "id": "K96kUQ4NCc76"
      },
      "source": [
        "# Flughafennetzwerk\n",
        "\n",
        "Das internationale Netzwerk von Flughäfen wird auf der Website [openflights.org](https://openflights.org/) bereitgestellt. Sie finden die Dateien unter folgenden Links: https://sharing.crt-dresden.de/index.php/s/oldkK7YSNbidkZG & https://sharing.crt-dresden.de/index.php/s/kTExDyNxd6QATQ4 .\n",
        "**Schauen Sie sich die Dateien in einem Texteditor an, um einen Einblick zu erhalten, worum es sich handelt. ([Dokumentation](https://openflights.org/data.html)).** Suchen Sie z.B. nach DRS für Dresden.\n",
        "\n",
        "**Auszug *airports.dat*:**\n",
        "\n",
        "\n",
        "```\n",
        "1,\"Goroka\",\"Goroka\",\"Papua New Guinea\",\"GKA\",\"AYGA\",-6.081689,145.391881,5282,10,\"U\",\"Pacific/Port_Moresby\"\n",
        "2,\"Madang\",\"Madang\",\"Papua New Guinea\",\"MAG\",\"AYMD\",-5.207083,145.7887,20,10,\"U\",\"Pacific/Port_Moresby\"\n",
        "```\n",
        "\n",
        "**Auszug *routes.dat*:**\n",
        "\n",
        "\n",
        "\n",
        "```\n",
        "2B,410,AER,2965,KZN,2990,,0,CR2\n",
        "2B,410,ASF,2966,KZN,2990,,0,CR2\n",
        "2B,410,ASF,2966,MRV,2962,,0,CR2\n",
        "```"
      ]
    },
    {
      "cell_type": "markdown",
      "metadata": {
        "id": "tmeLKq2rD4yA"
      },
      "source": [
        "## Upload der Dateien für Google-Collaboratory\n",
        "\n",
        "Wir verwenden wget, um die Dateien hier in Google-Collaboratory verfügbar zu machen. Wget ist ein Programm, mit dem Dateien von HTTP-, HTTPS-, FTP- und FTPS-Servern abgerufen werden können. Wenn Sie ein Linux- oder Mac-Benutzer sind, ist wget normalerweise in der Standardinstallation enthalten."
      ]
    },
    {
      "cell_type": "code",
      "metadata": {
        "id": "Ow71x5gCBZR7"
      },
      "source": [
        "!wget https://cloudstore.zih.tu-dresden.de/index.php/s/yT2eywFx923w3ex/download -O airports.dat\n",
        "!wget https://cloudstore.zih.tu-dresden.de/index.php/s/ZQsFzQL52xJp2aG/download -O routes.dat"
      ],
      "execution_count": null,
      "outputs": []
    },
    {
      "cell_type": "markdown",
      "metadata": {
        "id": "u1ysKGfFBY4Z"
      },
      "source": [
        "Alternativ können Sie wie folgt vorgehen, um die Dateien verfügbar zu machen (hierzu müssen Sie in Ihren Google-Account eingeloggt sein):\n",
        "\n",
        "1.   Speichern Sie die Dateien *airports.dat* und *routes.dat* auf Ihrem Gerät\n",
        "2.   Öffnen Sie die Navigation des Notebooks, und laden Sie die Dateien in Ihre Runtime hoch (Files, Upload)\n",
        "![alt text](https://biotec.tu-dresden.de/fileadmin/groups/schroeder/teaching/IntelligenteSysteme/ws18-19/labs/lab0/colab_annotated.png)\n",
        "3. Anschließend können Sie auf diese Dateien wie gewohnt aus Ihrem Python-Code zugreifen"
      ]
    },
    {
      "cell_type": "code",
      "metadata": {
        "id": "RS70UDqnWk7J"
      },
      "source": [
        "!ls"
      ],
      "execution_count": null,
      "outputs": []
    },
    {
      "cell_type": "markdown",
      "metadata": {
        "id": "ozxcjkI-_jOe"
      },
      "source": [
        "## Script zum Einlesen und Verarbeiten der Datenstruktur\n",
        "\n",
        "Das folgende Script liest die Flughafeninformationen ein und stellt grundlegende Datenstrukturen bereit.\n",
        "Die Klasse *airport* hat die Attribute *code*, *city*, *country*, *x*, *y*, *conn*, welche den Dreibuchstabencode, Stadtnamen, Land, x und y Koordinate und die Flugverbindungen des Flughafens wiedergeben. Die Funktion *str()* gibt einen String mit Code, Stadt und Land zurück; sie dient zur lesbaren Repräsentation des Objekts.\n",
        "Die Klasse *airports* hat das Attribut *d*, ein Dictionary mit allen Flughäfen. Als\n",
        "Schlüssel wird der Dreibuchstabencode genutzt. Die Funktion *distance(fr, to)* berechnet die Distanz zwischen zwei Flughäfen."
      ]
    },
    {
      "cell_type": "code",
      "metadata": {
        "id": "0pCbuWadZxLl"
      },
      "source": [
        "import math\n",
        "import sys\n",
        "import random\n",
        "\n",
        "class airport():\n",
        "    \"\"\"Implements an airport with airport code, city, country, x, y, and connections\"\"\"\n",
        "\n",
        "    def __init__(self, code):\n",
        "        \"\"\"Creates airport object.\"\"\"\n",
        "        self.code = code\n",
        "        self.conn = set([])\n",
        "\n",
        "    def set(self, city, country, x, y):\n",
        "        self.city = city\n",
        "        self.country = country\n",
        "        self.x = x\n",
        "        self.y = y\n",
        "\n",
        "    def fly2(self, a):\n",
        "        self.conn.add(a)\n",
        "\n",
        "    def str(self):\n",
        "        return \"%s, %s, %s\" % (self.code, self.city, self.country)\n",
        "\n",
        "\n",
        "class airports():\n",
        "    \"\"\"Implements a set of airports with their connections\"\"\"\n",
        "\n",
        "    def __init__(self):\n",
        "        self.d = {}  # a dictionary with code as key and airport as value\n",
        "        self.city = {}  # for each city a set of its airports\n",
        "        self.country = {}  # for each country a set of its airports\n",
        "        self.goodCodes = self.codesWithRoutes(self.codesWithAirportInfo())\n",
        "        self.readRoutes()\n",
        "        self.readAirportInfo()\n",
        "        self.indexCities()\n",
        "        self.indexCountries()\n",
        "\n",
        "    def get(self, code):\n",
        "        if not code in self.d:\n",
        "            self.d[code] = airport(code)\n",
        "        return self.d[code]\n",
        "\n",
        "        # Good codes have their airport info and at least one route\n",
        "\n",
        "    # to a destination which has its airport information complete\n",
        "    def codesWithRoutes(self, codesWithAirportInfo):\n",
        "        codes = set([])\n",
        "        for line in open(\"routes.dat\", encoding='utf-8'):\n",
        "            l = line.split(\",\")\n",
        "            fr = l[2].strip(\"\\\"\")\n",
        "            to = l[4].strip(\"\\\"\")\n",
        "            if fr in codesWithAirportInfo and to in codesWithAirportInfo:\n",
        "                codes.add(fr)\n",
        "                codes.add(to)\n",
        "        return codes\n",
        "\n",
        "    # Collect all codes that have in principle all airport information\n",
        "    def codesWithAirportInfo(self):\n",
        "        codes = set([])\n",
        "        for line in open(\"airports.dat\", encoding='utf-8'):\n",
        "            l = line.split(\",\")\n",
        "            if len(l) == 12:\n",
        "                code = l[4].strip(\"\\\"\")\n",
        "                city = l[2].strip(\"\\\"\")\n",
        "                country = l[3].strip(\"\\\"\")\n",
        "                x = float(l[6])\n",
        "                y = float(l[7])\n",
        "                if city and country and x and y:\n",
        "                    codes.add(code)\n",
        "        return codes\n",
        "\n",
        "    def readRoutes(self):\n",
        "        for line in open(\"routes.dat\", encoding='utf-8'):\n",
        "            l = line.split(\",\")\n",
        "            fr = l[2].strip(\"\\\"\")\n",
        "            to = l[4].strip(\"\\\"\")\n",
        "            if fr in self.goodCodes and to in self.goodCodes:\n",
        "                fr_airport = self.get(fr)\n",
        "                to_airport = self.get(to)\n",
        "                fr_airport.fly2(to_airport)\n",
        "                to_airport.fly2(fr_airport)\n",
        "\n",
        "    def readAirportInfo(self):\n",
        "        for line in open(\"airports.dat\", encoding='utf-8'):\n",
        "            l = line.split(\",\")\n",
        "            if len(l) == 12:\n",
        "                code = l[4].strip(\"\\\"\")\n",
        "                city = l[2].strip(\"\\\"\")\n",
        "                country = l[3].strip(\"\\\"\")\n",
        "                x = float(l[6])\n",
        "                y = float(l[7])\n",
        "                if code in self.d and code in self.goodCodes:\n",
        "                    self.d[code].set(city, country, x, y)\n",
        "\n",
        "    def indexCities(self):\n",
        "        for code in self.goodCodes:\n",
        "            c = self.d[code].city\n",
        "            self.city[c] = self.city.get(c, set([]))\n",
        "            self.city[c].add(code)\n",
        "\n",
        "    def indexCountries(self):\n",
        "        for code in self.goodCodes:\n",
        "            c = self.d[code].country\n",
        "            self.country[c] = self.country.get(c, set([]))\n",
        "            self.country[c].add(code)\n",
        "\n",
        "    ################################################################\n",
        "    #\n",
        "    # Distance between airports from long/lat coordinates on sphere\n",
        "    # See e.g. http://www.koordinaten.de/informationen/formel.shtml\n",
        "    #conn\n",
        "    ################################################################\n",
        "\n",
        "    def distance(self, fr, to):\n",
        "        if fr == to: return 0.0\n",
        "        try:\n",
        "            return math.acos(\n",
        "                math.sin(math.radians(fr.x)) * math.sin(math.radians(to.x)) + math.cos(math.radians(fr.x)) * math.cos(\n",
        "                    math.radians(to.x)) * math.cos(math.radians(to.y - fr.y))) * 6378.137\n",
        "        except:\n",
        "            print(fr.code + \" \" + to.code)\n",
        "            sys.exit()\n",
        "\n",
        "    def printPath(self, path):\n",
        "        for n in path:\n",
        "            print(n.str())\n",
        "        dist = 0.0\n",
        "        for i in range(len(path) - 1):\n",
        "            dist += self.distance(path[i], path[i + 1])\n",
        "        print(\"Distance: %d km\" % (dist))\n",
        "\n",
        "    def suggestAirport(self, s):\n",
        "        # s is an airport code\n",
        "        if s in self.d:\n",
        "            return self.d[s]\n",
        "        # s is a city, then return random airport code for that city\n",
        "        elif s in self.city:\n",
        "            l = list(self.city[s])\n",
        "            return self.d[l[random.randint(0, len(l) - 1)]]\n",
        "        # s is a country, then return random airport code for that country\n",
        "        elif s in self.country:\n",
        "            l = list(self.country[s])\n",
        "            return self.d[l[random.randint(0, len(l) - 1)]]\n",
        "        # return random airport code\n",
        "        else:\n",
        "            l = list(self.d.keys())\n",
        "            return self.d[l[random.randint(0, len(l) - 1)]]\n",
        "\n",
        "    def suggestNext(self, airport):\n",
        "        l = list(airport.conn)\n",
        "        return l[random.randint(0, len(l) - 1)]"
      ],
      "execution_count": null,
      "outputs": []
    },
    {
      "cell_type": "markdown",
      "metadata": {
        "id": "1_CXahkXDTYK"
      },
      "source": [
        "Der folgende Codeausschnitt zeigt, wie man Objekte aus der Datenstruktur abfragt und mit diesen umgeht. Machen Sie sich mit den Funktionen des Scripts vertraut. "
      ]
    },
    {
      "cell_type": "code",
      "metadata": {
        "id": "IFw7ZH2aDXIb"
      },
      "source": [
        "ap = airports()\n",
        "drs = ap.d[\"DRS\"]\n",
        "print(drs.str()) # DRS, Dresden, Germany\n",
        "print(drs.conn) # Verbindungen (als Liste von airport Objekten)\n",
        "\n",
        "for a in drs.conn: # Verbindungen schoen ausgeben\n",
        "  print(a.str())\n",
        "  \n",
        "syd = ap.d[\"SYD\"]\n",
        "print(syd.str())\n",
        "\n",
        "print(\"Distance SYD DRS:\")\n",
        "print(ap.distance(drs,syd))"
      ],
      "execution_count": null,
      "outputs": []
    },
    {
      "cell_type": "markdown",
      "metadata": {
        "id": "YYmqfTKzpdiI"
      },
      "source": [
        "#Aufgabe 1 - Erste Schritte\n",
        "\n",
        "> **Im Folgenden geht es nicht darum, jede Zeile des vorgegebenen Codes zu verstehen. Diese Lehrveranstaltung ist kein Programmierkurs. Machen Sie sich also keine Gedanken, falls Sie die nachstehenden Aufgaben nicht vollständig lösen können. Die Aufgaben stellen vielmehr ein Beispiel dar, wozu die im Laufe des Semsters zu erlernenden Algorithmen eingesetzt werden können.**\n",
        "\n",
        "Füllen Sie die Lücken (___) im vorgegebenen Code, um folgende Aufgaben zu erfüllen:\n",
        "\n",
        "\n",
        "\n",
        "1. Auflistung aller Flughäfen in Deutschland\n",
        "2. Anzahl der Destinationen von Frankfurt (FRA)\n",
        "3. Alle Flughäfen im Umkreis von 200km von Dresden\n",
        "4. Top 10 Flughäfen mit den meisten Verbindungen\n",
        "5. Flughäfen, die genau eine Verbindung haben\n",
        "6. Der am weitesten von Dresden entfernte Flughafen"
      ]
    },
    {
      "cell_type": "markdown",
      "metadata": {
        "id": "yWtXF_tntAV-"
      },
      "source": [
        "### 1. Auflistung aller Flughäfen in Deutschland"
      ]
    },
    {
      "cell_type": "code",
      "metadata": {
        "id": "dXwvDsNlvS_1"
      },
      "source": [
        "print(\"German airports\")\n",
        "\n",
        "count=0\n",
        "for a in [airport for airport in ap.d.values() if airport.country == \"Germany\"]:\n",
        "  print(a.str())\n",
        "  count +=1\n",
        "print(\"Total number of airports in Germany: %d\" %count)\n",
        "\n",
        "# alternativ: funktionelle Programmierung (lambda-expression)\n",
        "print(\"\\n\".join(map(lambda a: a.str(), filter(lambda a: a.country == \"Germany\", ap.d.values()))))\n",
        "print(\"Total number of airports in Germany: %d\" %len(list(filter(lambda a: a.country == \"Germany\", ap.d.values()))))"
      ],
      "execution_count": null,
      "outputs": []
    },
    {
      "cell_type": "markdown",
      "metadata": {
        "id": "RKUVuytVvbnM"
      },
      "source": [
        "### 2. Anzahl der Destinationen von Frankfurt (FRA)"
      ]
    },
    {
      "cell_type": "code",
      "metadata": {
        "id": "rvBiX9WCH4-S"
      },
      "source": [
        ""
      ],
      "execution_count": null,
      "outputs": []
    },
    {
      "cell_type": "code",
      "metadata": {
        "id": "TIauB5ZdvrL-"
      },
      "source": [
        "print(\"Number of FRA destinations\")\n",
        "print(len(ap.d[\"FRA\"].conn))"
      ],
      "execution_count": null,
      "outputs": []
    },
    {
      "cell_type": "markdown",
      "metadata": {
        "id": "j06LYUBFv5uR"
      },
      "source": [
        "### 3. Alle Flughäfen im Umkreis von 200km von Dresden (DRS)"
      ]
    },
    {
      "cell_type": "code",
      "metadata": {
        "id": "7EblzXRCwKiI"
      },
      "source": [
        "print(\"Airports near DRS\")\n",
        "drs = ap.d[\"DRS\"]\n",
        "for a in ap.d.values():\n",
        "    if ap.distance(drs, a) < 200:\n",
        "        print(a.str())"
      ],
      "execution_count": null,
      "outputs": []
    },
    {
      "cell_type": "markdown",
      "metadata": {
        "id": "I7v5QotHwDJy"
      },
      "source": [
        "### 4. Top 10 Flughäfen mit den meisten Verbindungen"
      ]
    },
    {
      "cell_type": "code",
      "metadata": {
        "id": "HkhIzMT7w0G6"
      },
      "source": [
        "# Sortieren der Flughaefen nach der Anzahl der Verbindungen\n",
        "connected_airports = sorted(list(ap.d.values()), key=lambda x: len(x.conn), reverse=True)\n",
        "print(\"Top 10 airports by connections\")\n",
        "for each_airport in connected_airports[:10]:\n",
        "    print(\"%s, %d connections\" % (each_airport.str(), len(each_airport.conn)))"
      ],
      "execution_count": null,
      "outputs": []
    },
    {
      "cell_type": "markdown",
      "metadata": {
        "id": "W23CCO-sw7N5"
      },
      "source": [
        "### 5. Flughäfen, die genau eine Verbindung haben"
      ]
    },
    {
      "cell_type": "markdown",
      "metadata": {
        "id": "qcUrNh0GJevp"
      },
      "source": [
        ""
      ]
    },
    {
      "cell_type": "code",
      "metadata": {
        "id": "sFJtKzmjxDVJ"
      },
      "source": [
        "print(\"Airports with only one connection\")\n",
        "count=0\n",
        "for a in ap.d.values():\n",
        "    if len(a.conn) == 1:\n",
        "        print(a.str())\n",
        "        count +=1\n",
        "print(\"Total number of airports with only one connection: %d\" %count)"
      ],
      "execution_count": null,
      "outputs": []
    },
    {
      "cell_type": "markdown",
      "metadata": {
        "id": "EcQGtyPdxXQ1"
      },
      "source": [
        "### 6. Der am weitesten von Dresden entfernte Flughafen\n"
      ]
    },
    {
      "cell_type": "code",
      "metadata": {
        "id": "l-648sD7xz_N"
      },
      "source": [
        "print(\"Farthest airport from DRS\")\n",
        "drs = ap.d[\"DRS\"]\n",
        "# Sortieren der Flughaefen nach Distanz zu DRS\n",
        "farthest_airports = sorted(list(ap.d.values()), key=lambda a: ap.distance(drs, a), reverse=True)\n",
        "print(\"%s, %d km\" % (farthest_airports[0].str(), int(ap.distance(drs, farthest_airports[0]))))"
      ],
      "execution_count": null,
      "outputs": []
    },
    {
      "cell_type": "markdown",
      "metadata": {
        "id": "tQl8is6ErmN8"
      },
      "source": [
        "# Aufgabe 2 - Random Walker\n",
        "\n",
        "Lassen Sie einen Reisenden zufällig umherreisen. Nutzen Sie da-\n",
        "zu die Funktionen *suggestNext()*, um den nächsten Flughafen zufällig auszuwählen. Die\n",
        "Funktion nimmt ein airport-Objekt als Parameter (keinen Dreibuchstabencode).\n",
        "\n",
        "## Zufälliger Standort\n",
        "\n",
        "Wenn Sie einen zufälligen Start für den Reisenden wählen möchten, können Sie die Funktion *suggestAirport()* nutzen. Die Funktion hat einen String als Parameter. Handelt es sich bei dem String um eine Stadt oder ein Land, so wird zufällig ein\n",
        "entsprechender Flughafen gewählt. Bei einem leeren String wird ein beliebiger Flughafen\n",
        "zurückgegeben. Um zu einem zufälligen nächsten Flughafen zu kommen, benutzen Sie *suggestNext()*."
      ]
    },
    {
      "cell_type": "code",
      "metadata": {
        "id": "gmpbkQfdypRW"
      },
      "source": [
        "print(\"Random walker\")\n",
        "a = ap.suggestAirport(\"\")\n",
        "for i in range(10):\n",
        "    print(a.str())\n",
        "    a = ap.suggestNext(a)"
      ],
      "execution_count": null,
      "outputs": []
    },
    {
      "cell_type": "markdown",
      "metadata": {
        "id": "1HfIIDXOyjY3"
      },
      "source": [
        "## Pagerank\n",
        "Erweiterung (falls Sie die letzte gelöst haben): Google bewertet mit einem Random Walker wie gut Webseiten verdrahtet sind. Dazu wählt der Reisende mit 85% Wahrscheinlichkeit eine zufällige Destantion von seinem Standort (*suggestNext()*) und mit\n",
        "15% Wahrscheinlichkeit startet er komplett neu (*suggestAirport()*), die besuchten Flughäfen bleiben jedoch gespeichert. Lassen Sie den Reisenden umherfliegen und zählen mit, welche Flughäfen er/sie besucht. Geben Sie die meistbesuchten Flughäfen aus."
      ]
    },
    {
      "cell_type": "code",
      "metadata": {
        "id": "1iE7jg8PzTl3"
      },
      "source": [
        "print(\"Random walker ranking\")\n",
        "a = ap.suggestAirport(\"\")\n",
        "visits = {}\n",
        "for i in range(100000):\n",
        "    visits[a.code] = visits.get(a.code, 0) + 1\n",
        "    if random.random() < 0.15:\n",
        "        a = ap.suggestAirport(\"\")\n",
        "    else:\n",
        "        a = ap.suggestNext(a)\n",
        "# Sortieren der besuchten Flughäfen nach Häufigkeit\n",
        "visited_airports = sorted(visits.items(), key=lambda x: x[1], reverse=True)\n",
        "for (k, v) in visited_airports[:10]:\n",
        "    print(\"Visited %s %d times\" % (ap.d[k].str(), v))"
      ],
      "execution_count": null,
      "outputs": []
    },
    {
      "cell_type": "markdown",
      "metadata": {
        "id": "HJ93gY9ur-Jk"
      },
      "source": [
        "# Aufgabe 3 - Flugroutensuche mit Breitensuche\n",
        "\n",
        "Schauen Sie sich die Vorlesungsfolien der nächsten Woche zum Thema Breitensuche an und implementieren Sie den Breitensuche Algorithmus. Eingabe sollen airport-Objekte *fr* und *to* sein und Ausgabe eine Listen von airport-Objekten, wobei das erste\n",
        "*fr* ist und das letzte *to* und alle aufeinanderfolgenden Paare der Liste durch eine direkte Flugverbindung verbunden sind. Nutzen Sie *printPath(path)* um den ermittelten Weg auszugeben. **Zeigen Sie Beispiele auf, in denen die Breitensuche sinnvolle und nicht so sinnvolle Flugverbindungen ermittelt.** "
      ]
    },
    {
      "cell_type": "code",
      "metadata": {
        "id": "7NglTf8G0MRg"
      },
      "source": [
        "# Main breadth first search algorithm\n",
        "import types\n",
        "def bfs_path(self, parent, fr, to):\n",
        "        path = [to]\n",
        "        while path[-1] != fr:  # last element of path is not fr\n",
        "            path.append(parent[path[-1]])\n",
        "        path.reverse()  # path is in wrong order, so reverse\n",
        "        return path\n",
        "\n",
        "def bfs(self, fr, to):\n",
        "        # FIFO queue of nodes to be processed\n",
        "        queue = [fr]\n",
        "        # Avoid loops by keeping track of visited nodes\n",
        "        visited = {}\n",
        "        # Store parent of node to get path from fr to to\n",
        "        parent = {}\n",
        "        while queue:\n",
        "            n = queue.pop(0)  # get first node of queue\n",
        "            visited[n] = True\n",
        "            if n == to:  # solution found\n",
        "                return self.bfs_path(parent, fr, to)\n",
        "            for nn in n.conn:  # add successors to queue\n",
        "                if not nn in visited and not nn in queue:\n",
        "                    parent[nn] = n\n",
        "                    queue.append(nn)  # add nn to the end (important!) of queue (FIFO)\n",
        "\n",
        "ap = airports()\n",
        "ap.bfs_path=types.MethodType(bfs_path,ap) # attach the BFS funtion to the Airport object\n",
        "ap.bfs=types.MethodType(bfs,ap)"
      ],
      "execution_count": null,
      "outputs": []
    },
    {
      "cell_type": "markdown",
      "metadata": {
        "id": "anGgYd6n17pf"
      },
      "source": [
        "## Anwendung des Breitensuche-Algorithmus\n",
        "\n",
        "Wenn Sie den Breitensuche-Algorithmus implementiert haben, können Sie diesen nutzen, um sich eine beliebige Flugroute ausgeben zu lassen."
      ]
    },
    {
      "cell_type": "code",
      "metadata": {
        "id": "bVESTg2s2Jh3"
      },
      "source": [
        "print(\"BFS from Dresden (DRS) to Sydney (SYD)\")\n",
        "fr = ap.d[\"DRS\"]\n",
        "to = ap.d[\"SYD\"]\n",
        "ap.printPath(ap.bfs(fr, to))"
      ],
      "execution_count": null,
      "outputs": []
    }
  ]
}