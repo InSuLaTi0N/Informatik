{
  "nbformat": 4,
  "nbformat_minor": 0,
  "metadata": {
    "kernelspec": {
      "name": "python3",
      "display_name": "Python 3"
    },
    "language_info": {
      "codemirror_mode": {
        "name": "ipython",
        "version": 3
      },
      "file_extension": ".py",
      "mimetype": "text/x-python",
      "name": "python",
      "nbconvert_exporter": "python",
      "pygments_lexer": "ipython3",
      "version": "3.7.5"
    },
    "colab": {
      "name": "unsupervised_learning_solution.ipynb",
      "private_outputs": true,
      "provenance": [],
      "collapsed_sections": [],
      "include_colab_link": true
    }
  },
  "cells": [
    {
      "cell_type": "markdown",
      "metadata": {
        "id": "view-in-github",
        "colab_type": "text"
      },
      "source": [
        "<a href=\"https://colab.research.google.com/github/InSuLaTi0N/Informatik/blob/master/unsupervised_learning_solution.ipynb\" target=\"_parent\"><img src=\"https://colab.research.google.com/assets/colab-badge.svg\" alt=\"Open In Colab\"/></a>"
      ]
    },
    {
      "cell_type": "markdown",
      "metadata": {
        "id": "b5Q7kqLKDo7Z"
      },
      "source": [
        "Version: 2022.01.20\n",
        "\n",
        "---\n",
        "\n"
      ]
    },
    {
      "cell_type": "markdown",
      "metadata": {
        "id": "4JBoAxnxaGAQ"
      },
      "source": [
        "# Intelligente Systeme - Übung Unsupervised Learning"
      ]
    },
    {
      "cell_type": "markdown",
      "metadata": {
        "id": "3yaELRiHYr8H"
      },
      "source": [
        "# Aufgabe 1 - Überblick\n",
        "\n",
        "Ordnen Sie die in der Vorlesung diskutierten Verfahren den grünen Boxen A-D zu.\n"
      ]
    },
    {
      "cell_type": "markdown",
      "metadata": {
        "id": "QZfwj1RBZ1sQ"
      },
      "source": [
        "## Lösung\n",
        "\n",
        "\n",
        "![Flow chart](https://docs.google.com/uc?id=1hquNDJeSSfKupgJrPAt_z7PBpRC_6Dj_)"
      ]
    },
    {
      "cell_type": "markdown",
      "metadata": {
        "id": "T5iuW6U6aGAg"
      },
      "source": [
        "# Aufgabe 2 - k-means Clustering I\n",
        "\n",
        "\n",
        "Gegeben ist ein Datensatz mit sechs Datenpunkten und vier verschiedenen Initialisierungen für ein \"2-means clustering\". \n",
        "\n",
        "Welche Endkonfiguration ergibt sich bei den verschiedenen Initialisierungen für die Lage der Clusterzentren und für die Zugehörigkeit der Datenpunkte zu den Clustern? Verwenden Sie für Ihre Berechnungen die euklidische Distanz.\n",
        "\n",
        "Die Koordinaten der Beispieldaten sind gegeben durch: \n",
        "\n",
        "$$Examples = \\{(0.0, 0.0), (0.0, 1.0), (0.0, 2.0), (2.0, 0.0), (2.0, 1.0), (2.0, 2.0)\\}$$\n",
        "\n",
        "\n",
        "**(1)** Die erste Konfiguration der Cluster ist gegeben durch: \n",
        "$${(x_i, y_i)}_i = \\{(1.1, 0.5), (2.1, 2.0)\\} $$\n",
        "<img src=\"https://docs.google.com/uc?id=19SLR30rN0T0eDeCXAQJC3iWhw3QYLOFw\" width=400>\n",
        "\n",
        "**(2)** Die zweite Konfiguration der Cluster ist gegeben durch: \n",
        "$${(x_i, y_i)}_i = \\{(1.0, 1.0), (1.9, 2.0)\\} $$\n",
        "<img src=\"https://docs.google.com/uc?id=1jtrHSTAFv0J1HfKNVPncsJNKxxJWCy1e\" width=400>\n",
        "\n",
        "**(3)** Die dritte Konfiguration der Cluster ist gegeben durch: \n",
        "$${(x_i, y_i)}_i = \\{(0.1, 2.0), (2.1, 2.0)\\} $$\n",
        "<img src=\"https://docs.google.com/uc?id=1XvWChupwixj-FkLPyR2G-ACJltvlTjdK\" width=400>\n",
        "\n",
        "**(4)** Die vierte Konfiguration der Cluster ist gegeben durch: \n",
        "$${(x_i, y_i)}_i = \\{(2.1, 1.0), (2.1, 2.0)\\} $$\n",
        "<img src=\"https://docs.google.com/uc?id=136-hRU2XiJm2a_2ANzvCYVz1iIU63uf4\" width=400>\n",
        "\n"
      ]
    },
    {
      "cell_type": "markdown",
      "metadata": {
        "id": "iabeK7-JiOU4"
      },
      "source": [
        "## Lösung\n",
        "**(1)** Erste End-Konfiguration: \n",
        "  - Zentren bei $(0.0, 1.0)$ und $(2.0, 1.0)$\n",
        "  - Datenpunkte mit $x=0$ gehören zu Zentrum $(0.0, 1.0)$\n",
        "  - Datenpunkte mit $x=2$ gehören zu Zentrum $(2.0, 1.0)$\n",
        "\n",
        "**(2)** Zweite End-Konfiguration:\n",
        "  - gleich zur ersten End-Konfiguration\n",
        "\n",
        "**(3)** Dritte End-Konfiguration: \n",
        "  - gleich zur ersten End-Konfiguration\n",
        "\n",
        "**(4)** Vierte End-Konfiguration:\n",
        "  - Zentren bei $(1.0, 0.5)$ und $(1.0, 2.0)$\n",
        "  - Datenpunkte $\\{(0.0, 0.0), (0.0, 1.0), (2.0, 0.0), (2.0, 1.0)\\}$ gehören zu Zentrum $(1.0, 0.5)$\n",
        "  - Datenpunkte $\\{(0.0, 2.0), (2.0, 2.0)\\}$ gehören zu Zentrum $(1.0, 2.0)$"
      ]
    },
    {
      "cell_type": "markdown",
      "source": [
        "Der folgende Code gibt für jede Iteration die Cluster sowie die für das Clustering genutzen Zentren aus. So können die Zwischenschritte zur Lösung überprüft werden."
      ],
      "metadata": {
        "id": "nerJpoLqLSZE"
      }
    },
    {
      "cell_type": "code",
      "source": [
        "from collections import defaultdict\n",
        "import math\n",
        "import matplotlib.pyplot as plt\n",
        "\n",
        "\n",
        "data = [(0.0,0.0),(0.0,1.0),(0.0,2.0),(2.0,0.0),(2.0,1.0),(2.0,2.0)]\n",
        "\n",
        "def distance(xy1,xy2): # returns Euklidian distance\n",
        "  (x1,y1),(x2,y2) = xy1,xy2\n",
        "  return math.sqrt(math.pow(x1-x2,2)+math.pow(y1-y2,2))\n",
        "\n",
        "def closest(xys,xy1): # returns the index of the closest point\n",
        "  return min(range(len(xys)), key=lambda i: distance(xy1,xys[i]))\n",
        "\n",
        "def center(xys): # returns the average x and y\n",
        "  return tuple([sum(l)/len(l) for l in zip(*xys)])\n",
        "\n",
        "k = 2 # number of clusters\n",
        "centers = [(1.1,0.5),(2.1,2.0)] # ENTER START CONFIGURATION HERE\n",
        "clusters=defaultdict(list)\n",
        "\n",
        "#################################\n",
        "#\n",
        "# Main loop\n",
        "#\n",
        "# Repeat assignment of nodes\n",
        "# to nearest center and \n",
        "# recalculate centers\n",
        "#\n",
        "#################################\n",
        "for steps in range(5): # adjust the number of iterations as needed\n",
        "  clusters=defaultdict(list)\n",
        "  for xy in data:\n",
        "    nearest_center = closest(centers,xy)\n",
        "    clusters[nearest_center].append(xy)\n",
        "  print(f\"Centers: {centers}\")\n",
        "  print(f\"Resulting clusters: {dict(clusters)}\")\n",
        "  print(\"Calculating new centers...\\n\")\n",
        "  centers = [center(clusters[oldCenter]) for oldCenter in clusters]\n",
        "\n",
        "print(f\"Final centers: {centers}\")\n",
        "#################################\n",
        "#\n",
        "# Plot the resulting clustering\n",
        "# with mathplotlib. \n",
        "# Try to make it nicer with seaborn!\n",
        "#\n",
        "#################################\n",
        "x,y,col=[],[],[]\n",
        "for c in clusters:\n",
        "  for xy in clusters[c]:\n",
        "    x.append(xy[0])\n",
        "    y.append(xy[1])\n",
        "    col.append(c)\n",
        "plt.scatter(x, y, c=col)\n",
        "plt.show()"
      ],
      "metadata": {
        "id": "SjtaCNvGK-hm"
      },
      "execution_count": null,
      "outputs": []
    },
    {
      "cell_type": "markdown",
      "metadata": {
        "id": "2zRJz_ZpaGAh"
      },
      "source": [
        "# Aufgabe 3 - k-means Clustering II\n"
      ]
    },
    {
      "cell_type": "markdown",
      "metadata": {
        "id": "d9LhZI3FaGAm"
      },
      "source": [
        "Vervollständigen Sie die unten stehende k-means-Impementierung und probieren Sie verschiedene Werte für die Anzahl der Cluster (k) aus. Welches k scheint die Beispiel-Daten gut zu klassifizieren und bietet sich deshalb an?\n",
        "\n",
        "Sie können den Code auch nutzen, um andere Datenpunkte oder abweichende Initiallisierungen der Cluster-Zentren zu testen."
      ]
    },
    {
      "cell_type": "markdown",
      "metadata": {
        "id": "hMJuDYTjU-6A"
      },
      "source": [
        "## Lösung\n",
        "\n",
        "Für k=3 erhalten wir intuitiv nachvollziehbare Cluster für die Beispieldaten:"
      ]
    },
    {
      "cell_type": "code",
      "metadata": {
        "id": "98QPlA48aGAn"
      },
      "source": [
        "from collections import defaultdict\n",
        "import matplotlib.pyplot as plt\n",
        "\n",
        "\n",
        "data = [(6.,20.), (8.,15.), (3.,4.), (1.,1.), (21.,19.),(5.,4.),(25.,29.)]\n",
        "\n",
        "def distance(xy1,xy2): # returns Manhattan distance\n",
        "  (x1,y1),(x2,y2) = xy1,xy2\n",
        "  return abs(x1-x2)+abs(y1-y2)\n",
        "\n",
        "def closest(xys,xy1): # returns the index of the closest point\n",
        "  return min(range(len(xys)), key=lambda i: distance(xy1,xys[i]))\n",
        "\n",
        "def center(xys): # returns the average x and y\n",
        "  return tuple([sum(l)/len(l) for l in zip(*xys)])\n",
        "\n",
        "k = 3 # number of clusters\n",
        "centers = data[:k] # first k points are initial cluster centers\n",
        "clusters=defaultdict(list)\n",
        "\n",
        "#################################\n",
        "#\n",
        "# Main loop\n",
        "#\n",
        "# Repeat assignment of nodes\n",
        "# to nearest center and \n",
        "# recalculate centers\n",
        "#\n",
        "#################################\n",
        "for steps in range(10):\n",
        "  clusters=defaultdict(list)\n",
        "  for xy in data:\n",
        "    nearest_center = closest(centers,xy)\n",
        "    clusters[nearest_center].append(xy)\n",
        "  centers = [center(clusters[oldCenter]) for oldCenter in clusters]\n",
        "\n",
        "#################################\n",
        "#\n",
        "# Plot the resulting clustering\n",
        "# with mathplotlib. \n",
        "# Try to make it nicer with seaborn!\n",
        "#\n",
        "#################################\n",
        "x,y,col=[],[],[]\n",
        "for center in clusters:\n",
        "  for xy in clusters[center]:\n",
        "    x.append(xy[0])\n",
        "    y.append(xy[1])\n",
        "    col.append(center)\n",
        "plt.scatter(x, y, c=col)\n",
        "plt.show()"
      ],
      "execution_count": null,
      "outputs": []
    },
    {
      "cell_type": "markdown",
      "metadata": {
        "id": "b3JHnIw7alic"
      },
      "source": [
        "# Aufgabe 4 - Hierarchical clustering\n",
        "Gegeben ist die folgende Distanzenmatrix:\n",
        "\n",
        "<img src=\"https://drive.google.com/uc?id=1dVgAn8fvWFrpr-zvbzzzCMD1W3uqhWmq\" width=\"300\"  />\n",
        "\n",
        "**(1)** Führen Sie hierarchisches Clustering mit *Single Linkage* zur Bestimmung neuer Distanzen durch. Zeichnen Sie den resultierenden Baum und beschriften Sie die Zweige entsprechend. \n",
        "\n",
        "**(2)** Führen Sie hierarchisches Clustering mit *Complete Linkage* zu bestimmtung neuer Distanzen durch. Zeichnen Sie den resultierenden Baum und beschriften Sie die Zweige entsprechend. \n",
        "\n",
        "**(3)** Vergleichen Sie die vorherigen Ergebnisse. Ergibt sich daraus ein unterschiedliches Clustering?\n",
        "\n",
        "**(4)** *Single Linkage* und *Complete Linkage* sind nicht die einzigen Möglichkeiten, die Sie in der Vorlesung gelernt haben, um beim Clustern neue Distanzen zu bestimmen.\n",
        "Fassen Sie die **vier** gelernten Linkage Methoden zusammen."
      ]
    },
    {
      "cell_type": "markdown",
      "metadata": {
        "id": "ryVujIi9Ga18"
      },
      "source": [
        "## Lösung\n",
        "\n",
        "\n",
        "**(1)** Single Linkage\n",
        "\n",
        "<img src=\"https://drive.google.com/uc?id=1sNRbkIyCAUGBKXHf5skloQAMBHmrT06w\" width=\"700\"  />\n",
        "\n",
        "\n",
        "**(2)** Complete Linkage\n",
        "\n",
        "<img src=\"https://drive.google.com/uc?id=12BGPDCoPHAtSfK_1zqjIjWMN97CSaOeF\" width=\"700\"  />\n",
        "\n",
        "\n",
        "**(3)** Vergleich\n",
        "\n",
        "Obwohl das Clustering mit zwei verschiedenen Linkage Methoden gelöst wurde, ist die Reihenfolge der Knoten im Clustering die gleiche. Die Abstände zwischen den Knoten sind jedoch unterschiedlich und für andere Beispieldaten können auch unterschiedliche Bäume entstehen.\n",
        "\n",
        "\n",
        "**(4)** Überblick der vier Linkage Methoden\n",
        "\n",
        "**Methode der single linkage oder des nächsten Nachbarn.** Die Nähe zwischen zwei Clustern ist die Nähe zwischen ihren beiden nächstgelegenen Objekten. \n",
        "\n",
        "**Methode der complete linkage oder farthest neighbour.** Die Nähe zwischen zwei Clustern ist die Nähe zwischen den beiden am weitesten entfernten Objekten.\n",
        "\n",
        "**Methode der average linkage zwischen Gruppen (UPGMA).** Die Proximität zwischen zwei Clustern ist das arithmetische Mittel aller Proximitäten zwischen den Objekten. Die Mittelwerte werden bei jedem Schritt mit der Anzahl der Taxa in jedem Cluster gewichtet.\n",
        "\n",
        "**Methode der simple average oder der gleichgewichtigen durchschnittlichen Verknüpfung zwischen Gruppen (WPGMA).** Ist die modifizierte vorherige. Die Proximität zwischen zwei Clustern ist das arithmetische Mittel aller Proximitäten zwischen den Objekten. Obwohl dies rechnerisch einfacher ist, tragen bei einer ungleichen Anzahl von Taxa in den Clustern die Abstände in der ursprünglichen Matrix nicht gleichmäßig zu den Zwischenberechnungen bei.\n",
        "\n"
      ]
    },
    {
      "cell_type": "markdown",
      "metadata": {
        "id": "jf1yQo46GRZM"
      },
      "source": [
        "# Aufgabe 5 - Principal Component Analysis (PCA)\n",
        "\n",
        "In einem Dresdener Krankenhaus wurden die Symptome und Diagnosen für die zuletzt aufgenommenen Patienten erfasst. \n",
        "\n",
        "Der untenstehende Code verwendet die PCA-Implementierung in [scikit learn](https://scikit-learn.org/stable/modules/generated/sklearn.decomposition.PCA.html?highlight=pca#sklearn.decomposition.PCA), um die Dimensionalität der Daten zu reduzieren.\n",
        "\n",
        "Vervollständigen Sie den Code so, dass die vorhandenen Symptom-Daten mittels PCA in 2 Dimensionen abgebildet werden und färben Sie die Datenpunkte ensprechend der Diagnose. Sind in der resultierenden 2D Darstellung Cluster erkennbar, die eine Vorhersage der Diagnose anhand der Symptome ermöglichen würden?\n",
        "\n",
        "Ergänzen Sie den Code zusätzlich um eine Darstellung in nur einer Dimension."
      ]
    },
    {
      "cell_type": "markdown",
      "metadata": {
        "id": "5JBjPMMZfRiO"
      },
      "source": [
        "## Lösung"
      ]
    },
    {
      "cell_type": "code",
      "metadata": {
        "id": "zINgUuuAOc42"
      },
      "source": [
        "from sklearn.decomposition import PCA\n",
        "import matplotlib.pyplot as plt\n",
        "#\n",
        "data = [\n",
        "[\"Headache\",  \"Fever\",  \"Dry_cough\",  \"Tiredness\",  \"Conjunctivitis\",   \"Diarrhoea\",  \"Dehydration \",  \"Rash\",  \"Cramps\",  \"Nausea\", \"Diagnosis\"],\n",
        "[\"Yes\",  \"Yes\",   \"Yes\",   \"Yes\",  \"Yes\",  \"Yes\",    \"No\",    \"Yes\",  \"No\",   \"No\",   \"Covid\"],\n",
        "[\"No\",  \"Yes\",   \"No\",   \"No\",  \"No\",  \"Yes\",    \"Yes\",    \"No\",  \"Yes\",   \"Yes\",   \"Food_poison\"],\n",
        "[\"Yes\",  \"No\",   \"Yes\",   \"Yes\",  \"Yes\",  \"No\",    \"No\",    \"Yes\",  \"No\",   \"No\",   \"Covid\"],\n",
        "[\"Yes\",  \"Yes\",   \"Yes\",   \"Yes\",  \"No\",  \"Yes\",    \"No\",    \"No\",  \"No\",   \"No\",   \"Covid\"],\n",
        "[\"Yes\",  \"Yes\",   \"No\",   \"No\",  \"No\",  \"Yes\",    \"Yes\",    \"No\",  \"Yes\",   \"Yes\",   \"Food_poison\"],\n",
        "[\"Yes\",  \"Yes\",   \"No\",   \"Yes\",  \"No\",  \"Yes\",    \"No\",    \"No\",  \"Yes\",   \"Yes\",   \"Food_poison\"],\n",
        "[\"Yes\",  \"Yes\",   \"Yes\",   \"No\",  \"No\",  \"Yes\",    \"No\",    \"Yes\",  \"Yes\",   \"No\",   \"Food_poison\"],\n",
        "[\"Yes\",  \"No\",   \"No\",   \"Yes\",  \"Yes\",  \"No\",    \"No\",    \"Yes\",  \"No\",   \"No\",   \"Covid\"],\n",
        "[\"Yes\",  \"Yes\",   \"No\",   \"Yes\",  \"Yes\",  \"No\",    \"Yes\",    \"Yes\",  \"Yes\",   \"Yes\",   \"Covid\"],\n",
        "[\"Yes\",  \"Yes\",   \"No\",   \"Yes\",  \"No\",  \"Yes\",    \"Yes\",    \"No\",  \"Yes\",   \"Yes\",   \"Food_poison\"]\n",
        "]\n",
        "\n",
        "header = data[0] # header from data\n",
        "data = data[1:]      # remove header from data\n",
        "\n",
        "val2int =  {\n",
        "    \"Yes\": 0, \"No\": 1\n",
        "    }\n",
        "\n",
        "val2col = {\n",
        "    \"Food_poison\": \"blue\", \"Covid\": \"red\"\n",
        "}\n",
        "\n",
        "data2 = [[val2int[val] for val in example[:-1]] for example in data]\n",
        "print(data2)\n",
        "\n",
        "col = [val2col[example[-1]] for example in data]\n",
        "\n",
        "data3 = PCA(n_components=2).fit_transform(data2)\n",
        "(x,y) = zip(*data3)\n",
        "plt.scatter(x, y, c=col)\n",
        "plt.show()\n",
        "\n",
        "# PCA mit nur einer Dimension\n",
        "data4 = PCA(n_components=1).fit_transform(data2)\n",
        "plt.scatter(data4, [0]*len(data4),c=col)\n",
        "plt.show()"
      ],
      "execution_count": null,
      "outputs": []
    },
    {
      "cell_type": "code",
      "metadata": {
        "id": "0ienreKGerNX"
      },
      "source": [
        ""
      ],
      "execution_count": null,
      "outputs": []
    }
  ]
}