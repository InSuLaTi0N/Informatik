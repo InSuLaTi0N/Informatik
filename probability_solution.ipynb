{
  "nbformat": 4,
  "nbformat_minor": 0,
  "metadata": {
    "kernelspec": {
      "name": "python3",
      "display_name": "Python 3"
    },
    "language_info": {
      "codemirror_mode": {
        "name": "ipython",
        "version": 3
      },
      "file_extension": ".py",
      "mimetype": "text/x-python",
      "name": "python",
      "nbconvert_exporter": "python",
      "pygments_lexer": "ipython3",
      "version": "3.7.5"
    },
    "colab": {
      "name": "probability_solution.ipynb",
      "private_outputs": true,
      "provenance": [],
      "collapsed_sections": [],
      "include_colab_link": true
    }
  },
  "cells": [
    {
      "cell_type": "markdown",
      "metadata": {
        "id": "view-in-github",
        "colab_type": "text"
      },
      "source": [
        "<a href=\"https://colab.research.google.com/github/InSuLaTi0N/Informatik/blob/master/probability_solution.ipynb\" target=\"_parent\"><img src=\"https://colab.research.google.com/assets/colab-badge.svg\" alt=\"Open In Colab\"/></a>"
      ]
    },
    {
      "cell_type": "markdown",
      "metadata": {
        "id": "xIIgLvIPHSon"
      },
      "source": [
        "*Version*: 2021.12.10\n",
        "\n",
        "----\n"
      ]
    },
    {
      "cell_type": "markdown",
      "metadata": {
        "id": "p5HMHh3J-vtO"
      },
      "source": [
        "# Intelligente Systeme - Wahrscheinlichkeiten und das Naive-Bayes-Modell"
      ]
    },
    {
      "cell_type": "markdown",
      "metadata": {
        "id": "So6DT5Nk_HyO"
      },
      "source": [
        "## 1. Geburtstag\n",
        "\n",
        "In einem Raum sind $N$ Personen. Wie groß ist die Wahrscheinlichkeit, dass in dem Raum heute niemand und (${\"}\\land{\"}$) morgen mindestens eine dieser Personen Geburtstag hat? \n",
        "\n",
        "Schaltjahre werden nicht berücksichtigt. Alle Tage im Jahr seien als Geburtstage gleich wahrscheinlich."
      ]
    },
    {
      "cell_type": "markdown",
      "metadata": {
        "id": "ktCyihJkBGOK"
      },
      "source": [
        "### Lösung\n",
        "\n",
        "Sei H das Ereignis für heute, M das Ereignis für morgen und D die Anzahl der Tage im Jahr.\n",
        "(Außerdem soll der 1.1. auf den 31.12. folgen.)\n",
        "\n",
        "Gesucht ist \n",
        "$P(H \\land M)=P(H|M) \\cdot P(M) = P(H) \\cdot P(M|H)$\n",
        "\n",
        "Zur leichteren Berechenbarkeit verwenden wir die letzte Variante zur Berechnung von $P(H \\land M)$ und erhalten:\n",
        "\n",
        "$\\left ( \\frac{D-1}{D}\\right )^N \\cdot \\left (1-\\left ( \\frac{D-2}{D-1}\\right )^N \\right ) =$\n",
        "$\\left ( \\frac{364}{365}\\right )^N \\cdot \\left (1-\\left ( \\frac{363}{364}\\right )^N \\right )$\n"
      ]
    },
    {
      "cell_type": "markdown",
      "metadata": {
        "id": "Mbi6HdZZ_NoO"
      },
      "source": [
        "## 2. Geburtstage\n",
        "\n",
        "Wie viele Personen müssen in einem Raum sein, sodass die Wahrscheinlichkeit, dass mindestens zwei Personen am gleichen Tag (nicht unbedingt heute) Geburtstag haben,\n",
        "\n",
        "\n",
        "a) mindestens 50% beträgt?\n",
        "\n",
        "b) mindestens 99% beträgt?\n",
        "\n",
        "\n",
        "Schaltjahre werden nicht berücksichtigt. Alle Tage im Jahr seien als Geburtstage gleich wahrscheinlich."
      ]
    },
    {
      "cell_type": "markdown",
      "metadata": {
        "id": "wMZhJJQMBKV3"
      },
      "source": [
        "### Lösung\n",
        "Die Wahrscheinlichkeit, dass bei N Personen in einem Raum mindestens zwei Personen am gleichen Tag Geburtstag haben, erhalten wir, indem wir die Wahrscheinlichkeit berechnen, dass alle N Personen an unterschiedlichen Tagen Geburtstag haben, und diese Wahrscheinlichkeit von 1 abziehen.\n",
        "\n",
        "$ p(n)=1 - \\frac{365}{365} \\cdot \\frac{365-1}{365} \\cdot \\frac{365-2}{365} \\cdot \\cdot\\cdot \\frac{365-(n-1)}{365} = 1-  \\frac{365!}{(365-n)! \\cdot 365^n}$\n",
        "\n",
        "Die Lösung können wir mithilfe eines einfachen Skripts ermitteln (siehe unten).\n",
        "\n",
        "a) = 23\n",
        "\n",
        "b) = 57\n"
      ]
    },
    {
      "cell_type": "code",
      "metadata": {
        "id": "auzpmSwl6xKu"
      },
      "source": [
        "import numpy as np\n",
        "\n",
        "def prob(n):\n",
        "  nominators = np.arange(365, 365 - n, -1)\n",
        "  return 1 - np.prod(nominators/365)\n",
        "\n",
        "# task 1: >= 0.5\n",
        "i = 1\n",
        "p = prob(i)\n",
        "while p < 0.5:\n",
        "  i+=1\n",
        "  p = prob(i)\n",
        "\n",
        "print(\"Aufgabe 2a: >= 50%\")\n",
        "print(\"Anzahl Personen: {}\".format(i))\n",
        "print(\"Wahrscheinlichkeit: {}\".format(round(p, 2)))\n",
        "\n",
        "# task 2: >= 0.99\n",
        "while p < 0.99:\n",
        "  i+=1\n",
        "  p = prob(i)\n",
        "\n",
        "print(\"\\nAufgabe 2b: >= 99%\")\n",
        "print(\"Anzahl Personen: {}\".format(i))\n",
        "print(\"Wahrscheinlichkeit: {}\".format(round(p, 2)))"
      ],
      "execution_count": null,
      "outputs": []
    },
    {
      "cell_type": "markdown",
      "metadata": {
        "id": "aLPp2RM6_U3o"
      },
      "source": [
        "\n",
        "## 3. Würfeln\n",
        "\n",
        "Es wird mit zwei \"ehrlichen\" Würfeln gewürfelt. Wenn die beiden gewürfelten Zahlen verschieden sind, wie ist die Wahrscheinlichkeit, dass\n",
        "\n",
        "a) ihre Summe 6 ist,\n",
        "\n",
        "b) genau eine \"1\" erscheint,\n",
        "\n",
        "c) die Summe 4 oder kleiner ist."
      ]
    },
    {
      "cell_type": "markdown",
      "metadata": {
        "id": "J2n0TW6WBMFM"
      },
      "source": [
        "### Lösung\n",
        "Gesucht sind die bedingten Wahrscheinlichkeiten $P(A|X)$, $P(B|X)$ und $P(C|X)$, wobei X das Ereignis ist, dass die Zahlen unterschiedlich sind.\n",
        "\n",
        "Es gibt beim Würfeln mit zwei Würfeln insgesamt 36 mögliche Augenzahlkombinationen. Dabei sind für 30 Kombinationen $(x_i, y_i)$ die beiden Augenzahlen nicht gleich ($x_i \\neq y_i$). Demnach ist die Wahrscheinlichkeit P(X)=30/36.\n",
        "\n",
        "a) Gesucht ist $P(A|X)=\\frac{P(A \\land X)}{P(X)}$, wobei A das Ergeignis ist, dass die Summe der Augenzahlen 6 ist. Es gibt 4 Ausgänge für ($A \\land X$): $(1, 5), (2, 4), (4, 2), (5, 1)$. Daraus ergibt sich:\n",
        "$$ P(A|X) = \\frac{\\frac{4}{36}}{\\frac{30}{36}} = \\frac{4}{30}= \\frac{2}{15}  $$\n",
        "\n",
        "b) Gesucht ist $P(B|X)=\\frac{P(B \\land X)}{P(X)}$, wobei B das Ergeignis ist, dass genau eine \"1\" erscheint. Es gibt 10 Ausgänge für ($B \\land X$): $(1,2), (1,3), (1,4), (1,5), (1,6), (2,1), (3,1), (4,1), (5,1), (6,1)$. Daraus ergibt sich: \n",
        "$$ P(B|X) = \\frac{\\frac{10}{36}}{\\frac{30}{36}} = \\frac{10}{30}=\\frac{1}{3}  $$\n",
        "\n",
        "c) Gesucht ist $P(A|X)=\\frac{P(C \\land X)}{P(X)}$, wobei C das Ergeignis ist, dass die Summe 4 oder kleiner ist. Es gibt 4 Ausgänge für ($C \\land X$): $(1, 2), (1, 3), (2, 1), (3, 1)$. Daraus ergibt sich:\n",
        "$$ P(C|X) = \\frac{\\frac{4}{36}}{\\frac{30}{36}} = \\frac{4}{30}= \\frac{2}{15}  $$\n",
        "\n"
      ]
    },
    {
      "cell_type": "markdown",
      "metadata": {
        "id": "vCjHwuvH_YW8"
      },
      "source": [
        "\n",
        "## 4. Kinder\n",
        "\n",
        "Die Wahrscheinlichkeit, dass ein Mädchen oder ein Junge geboren wird, sei jeweils 50%. \n",
        "Wie groß ist die Wahrscheinlichkeit, dass abwechselnd Junge und Mädchen geboren werden, wenn\n",
        "\n",
        "a) 4 Mädchen und 3 Jungen bzw.\n",
        "\n",
        "b) 3 Mädchen und 3 Jungen geboren werden"
      ]
    },
    {
      "cell_type": "markdown",
      "metadata": {
        "id": "BT45MJrNBM4U"
      },
      "source": [
        "### Lösung\n",
        "\n",
        "a)  $ \\frac{4}{7} \\cdot \\frac{3}{6} \\cdot \\frac{3}{5} \\cdot \\frac{2}{4} \\cdot \\frac{2}{3} \\cdot \\frac{1}{2} \\cdot \\frac{1}{1} =  \\frac{1}{7 \\choose 4} = \\frac{1}{35} $\n",
        "\n",
        "b) $ \\frac{3}{6} \\cdot \\frac{3}{5} \\cdot \\frac{2}{4} \\cdot \\frac{2}{3} \\cdot \\frac{1}{2} \\cdot \\frac{1}{1} \\cdot 2 =  \\frac{2}{6 \\choose 3} = \\frac{1}{10} $"
      ]
    },
    {
      "cell_type": "markdown",
      "metadata": {
        "id": "SJOdOktn_aik"
      },
      "source": [
        "## 5. Mensa\n",
        "\n",
        "Die Wahrscheinlichkeit, dass A das Mensaessen schmeckt ist 0,25 und die Wahrscheinlichkeit, dass B das Mensaessen schmeckt ist 0,4. \n",
        "Wie groß ist die Wahrscheinlichkeit, dass wenigsten einem das Mensaessen schmeckt, wenn A und B je einmal essen gehen?\n"
      ]
    },
    {
      "cell_type": "markdown",
      "metadata": {
        "id": "hyOZK7dSBNnV"
      },
      "source": [
        "### Lösung\n",
        "\n",
        "$ P(A \\lor B) = P(A) + P(B) - P(A \\land B) = P(A) + P(B) - P(A) \\cdot P(B)$\n",
        "\n",
        "$ P(A \\lor B) = 0,25 + 0,4 - 0,25 \\cdot 0,4 = 0,55$\n",
        "\n",
        "Alternativer Lösungsweg:\n",
        "\n",
        "$ P(\\bar A \\land \\bar B) = 0,75 \\cdot 0,6 = 0,45$ \n",
        "\n",
        "$\\to P(A \\lor B) = 1-P(\\bar A \\land \\bar B) = 0,55 $\n"
      ]
    },
    {
      "cell_type": "markdown",
      "metadata": {
        "id": "5LbVPuYF_fCB"
      },
      "source": [
        "## 6. Autos klassifizieren – Naive Bayes\n",
        "\n",
        "Gegeben ist ein Datensatz mit Informationen einer Fahrzeugversicherung. Jedes Auto wird beschrieben mit seiner Farbe (red, yellow), seinem Typ (sports , SUV), und seiner Herkunft (domestic, imported). Wir nehmen an, dass diese Eigenschaften unabhängig voneinander sind.\n",
        "\n",
        "\n",
        "Id | Colour | Type | Origin | Stolen\n",
        "--- | --- | --- | --- | ---\n",
        "1 | red | sports | domestic | yes\n",
        "2 | red | sports | domestic | no \n",
        "3 | red | sports | domestic | yes\n",
        "4 | yellow | sports | domestic | no\n",
        "5 | yellow | sports | imported | yes\n",
        "6 | yellow | SUV | imported | no\n",
        "7 | yellow | SUV | imported | yes\n",
        "8 | yellow | SUV | domestic | no\n",
        "9 | red | SUV | imported | no\n",
        "10 | red | sports | imported | yes\n",
        "\n",
        "Sagen Sie basierend auf den Daten mit Hilfe des Naive Bayes Modells voraus, ob ein \"red domestic SUV\" wahrscheinlich gestohlen wird oder nicht.\n"
      ]
    },
    {
      "cell_type": "markdown",
      "metadata": {
        "id": "XtiPy5MIBPHd"
      },
      "source": [
        "### Lösung\n",
        "\n",
        "Um vorherzusagen, ob ein \"red domestic SUV\" Fahrzeug wahrscheinlich gestohlen wird, werden die Wahrscheinlichkeiten, dass es gestohlen wird und dass es nicht gestohlen wird, berechnet. Dabei ist es kein Problem, dass in unseren Trainingsdaten kein red domestic SUV vorkommt, denn das Teilen durch P(red, domestic, SUV) kann weggelassen werden, da es in beiden Wahrscheinlichkeiten vorkommt und für den Vergleich nicht relevant ist.\n",
        "\n",
        "$$ P(stolen? | \\text{red, domestic, SUV}) = \\frac{P(\\text{red, domestic, SUV} | stolen?) \\cdot P(stolen?)}{P(\\text{red, domestic, SUV})}$$\n",
        "\n",
        "$$\\to P(\\text{red, domestic, SUV}) \\text{ konstant/unabhängig von stolen=yes oder stolen=no}$$\n",
        "\n",
        "Außerdem gilt aufgrund der Annahme, dass Farbe, Typ und Herkunft unabhängig sind:\n",
        "\n",
        "$$ P(\\text{red, domestic, SUV} | stolen?) = P(\\text{red} | stolen?) \\cdot P(\\text{domestic} | stolen?) \\cdot P(\\text{SUV} | stolen?)$$\n",
        "\n",
        "Damit ergibt sich:\n",
        "\n",
        "1.   Wahrscheinlichkeit, dass das Fahrzeug gestohlen wird:\n",
        "\n",
        "> P(stolen=yes | red, domestic, SUV) $∝$ P(red | stolen=yes) $\\cdot$ P(domestic | stolen=yes) $\\cdot$ P(SUV | stolen=yes) $\\cdot$ P(stolen=yes)\n",
        "\n",
        "> P(stolen=yes | red, domestic, SUV) $ ∝ \\frac{3}{5} \\cdot \\frac{2}{5} \\cdot \\frac{1}{5} \\cdot \\frac{1}{2} = \\frac{6}{250}$\n",
        "\n",
        "2.   Wahrscheinlichkeit, dass das Fahrzeug nicht gestohlen wird:\n",
        "\n",
        "> P(stolen=no | red, domestic, SUV) $∝$ P(red | stolen=no) $\\cdot$ P(domestic | stolen=no) $\\cdot$ P(SUV | stolen=no) $\\cdot$ P(stolen=no)\n",
        "\n",
        "> P(stolen=no | red, domestic, SUV) $ ∝ \\frac{2}{5} \\cdot \\frac{3}{5} \\cdot \\frac{3}{5} \\cdot \\frac{1}{2} = \\frac{18}{250}$\n",
        "\n",
        "\n",
        "\n",
        "\n",
        "$\\to$ P(stolen=no | red, domestic, SUV) $>$ P(stolen=yes | red, domestic, SUV)\n",
        "\n",
        "Das \"red domestic SUV\" Fahrzeug wird wahrscheinlich nicht gestohlen.\n"
      ]
    },
    {
      "cell_type": "markdown",
      "metadata": {
        "id": "VpwM8MpPZFK8"
      },
      "source": [
        "## 7. Spamfilter\n",
        "\n",
        "Der untenstehende Code implementiert einen einfachen Spamfilter, der auf Naive Bayes basiert. Füllen Sie die Lücken im Code und wenden Sie den Spamfilter auf den SMS Spam Datensatz an."
      ]
    },
    {
      "cell_type": "code",
      "metadata": {
        "id": "7kuLSJAvZd5c"
      },
      "source": [
        "# SMS Spam Datensatz\n",
        "!wget https://cloudstore.zih.tu-dresden.de/index.php/s/33N8STmyGMLi4NE/download -O sms_spam.txt"
      ],
      "execution_count": null,
      "outputs": []
    },
    {
      "cell_type": "markdown",
      "metadata": {
        "id": "xk2DOQNfZU-f"
      },
      "source": [
        "### Lösung"
      ]
    },
    {
      "cell_type": "code",
      "metadata": {
        "id": "bNfhsvGXPV3S"
      },
      "source": [
        "from collections import defaultdict\n",
        "from tabulate import tabulate\n",
        "import random\n",
        "\n",
        "data = [line.split(\"\\t\") for line in open(\"sms_spam.txt\")]\n",
        "# random.shuffle(data)  # Daten mischen.\n",
        "upto = int(len(data)*0.8)\n",
        "training_data, test_data = data[:upto], data[upto:]\n",
        "\n",
        "labels = [label for label, msg in training_data]\n",
        "n_ham = labels.count(\"ham\")\n",
        "n_spam = labels.count(\"spam\")\n",
        "p_ham = float(n_ham)/len(labels)\n",
        "p_spam = float(n_spam)/len(labels)\n",
        "\n",
        "def msg2words(msg):\n",
        "  return set(msg.split())\n",
        "\n",
        "ham, spam = defaultdict(int), defaultdict(int)\n",
        "for label, msg in training_data:\n",
        "  for word in msg2words(msg):\n",
        "    if label == \"ham\":\n",
        "      ham[word] += 1\n",
        "    else:\n",
        "      spam[word] += 1\n",
        "\n",
        "n_voc = len(set(list(ham.keys()) + list(spam.keys())))\n",
        "\n",
        "def predict(msg):\n",
        "  p_msg_ham = 1.0\n",
        "  p_msg_spam = 1.0\n",
        "  for word in msg2words(msg):\n",
        "    # Berechnung der Wahrscheinlichkeiten inklusive Laplace smoothing\n",
        "    p_msg_ham *= (ham[word] + 1) / (n_ham + n_voc)\n",
        "    p_msg_spam *= (spam[word] + 1) / (n_spam + n_voc)\n",
        "  if p_msg_ham * p_ham >= p_msg_spam * p_spam:\n",
        "    return \"ham\"\n",
        "  return \"spam\"\n",
        "\n",
        "tp, fp, tn, fn = 0.0, 0.0, 0.0, 0.0\n",
        "for label, msg in test_data:\n",
        "  predicted = predict(msg)\n",
        "  if label == \"spam\" and predicted == \"spam\":\n",
        "    tp += 1\n",
        "  elif label == \"ham\" and predicted == \"spam\":\n",
        "    fp += 1\n",
        "  elif label == \"ham\" and predicted == \"ham\":\n",
        "    tn += 1\n",
        "  elif label == \"spam\" and predicted == \"ham\":\n",
        "    fn += 1\n",
        "precision = tp/(tp+fp)\n",
        "recall = tp/(tp+fn)\n",
        "accuracy = (tp+tn)/(tp+fp+tn+fn)\n",
        "\n",
        "print(\"There are {} ({}%) ham and {} ({}%) spam SMS.\".format(n_ham, round(p_ham*100, 1), n_spam, round(p_spam*100, 1)))\n",
        "print(\"Precision is {}, recall {}, and accuracy {}\".format(round(precision, 2), round(recall, 2), round(accuracy, 2)))"
      ],
      "execution_count": null,
      "outputs": []
    }
  ]
}